{
 "cells": [
  {
   "cell_type": "markdown",
   "metadata": {},
   "source": [
    "# Sorting images into three size groups"
   ]
  },
  {
   "cell_type": "code",
   "execution_count": 9,
   "metadata": {},
   "outputs": [
    {
     "data": {
      "text/plain": [
       "'/Users/claire/Downloads/DUTS-TR'"
      ]
     },
     "execution_count": 9,
     "metadata": {},
     "output_type": "execute_result"
    }
   ],
   "source": [
    "import os\n",
    "import numpy as np\n",
    "from PIL import Image\n",
    "\n",
    "# Replace the absolute_path with the absolute path you want to set\n",
    "absolute_path = \"/Users/claire/Downloads/DUTS-TR\"\n",
    "\n",
    "# Use os.chdir to change the working directory\n",
    "os.chdir(absolute_path)\n",
    "\n",
    "# Show current working directory\n",
    "%pwd"
   ]
  },
  {
   "cell_type": "markdown",
   "metadata": {},
   "source": [
    "## Function for counting the number of white pixels"
   ]
  },
  {
   "cell_type": "code",
   "execution_count": 11,
   "metadata": {},
   "outputs": [],
   "source": [
    "def count_white_pixels(mask_path):\n",
    "    mask = Image.open(mask_path)\n",
    "    mask_array = np.array(mask)\n",
    "    white_pixel_count = np.sum(mask_array == 255)\n",
    "    return white_pixel_count"
   ]
  },
  {
   "cell_type": "markdown",
   "metadata": {},
   "source": [
    "## Function sorting images into three groups (small, medium, large)"
   ]
  },
  {
   "cell_type": "code",
   "execution_count": 14,
   "metadata": {},
   "outputs": [],
   "source": [
    "def process_image_mask_pairs(img_folder, gt_folder, output_file_path, lower_threshold, upper_threshold):\n",
    "    # Initialize a count variable to track the number of filenames written\n",
    "    num_filenames_written = 0\n",
    "\n",
    "    # Open the file in write mode, clearing existing content if the file exists\n",
    "    with open(output_file_path, 'w') as output_file:\n",
    "        # Iterate over all image files in the img folder\n",
    "        for img_filename in os.listdir(img_folder):\n",
    "            # Check if the file is a JPG image\n",
    "            if img_filename.endswith('.jpg'):\n",
    "                img_path = os.path.join(img_folder, img_filename)\n",
    "                \n",
    "                # Form the corresponding mask file path based on the image filename\n",
    "                mask_filename = img_filename.replace('.jpg', '.png')\n",
    "                mask_path = os.path.join(gt_folder, mask_filename)\n",
    "\n",
    "                # Check if the mask file exists\n",
    "                if os.path.exists(mask_path):\n",
    "                    # Count white pixels in the mask\n",
    "                    white_pixel_count = count_white_pixels(mask_path)\n",
    "\n",
    "                    # Check if the count is within the specified thresholds\n",
    "                    if lower_threshold <= white_pixel_count <= upper_threshold:\n",
    "                        # Write the filenames to the output file\n",
    "                        output_file.write(f'{img_filename[:-4]}\\n')\n",
    "                        num_filenames_written += 1\n",
    "\n",
    "    return num_filenames_written"
   ]
  },
  {
   "cell_type": "code",
   "execution_count": 16,
   "metadata": {},
   "outputs": [
    {
     "name": "stdout",
     "output_type": "stream",
     "text": [
      "Processing complete. Results written to: /Users/claire/Downloads/Datasets/DUTS-TR_resized/medium.txt\n",
      "Number of filenames written to the file: 2681\n"
     ]
    }
   ],
   "source": [
    "# Replace these paths with the actual paths to your image and mask folders\n",
    "img_folder = '/Users/claire/Downloads/Datasets/DUTS-TR_resized/img'\n",
    "gt_folder = '/Users/claire/Downloads/Datasets/DUTS-TR_resized/gt'\n",
    "\n",
    "# Replace this path with the desired output text file\n",
    "output_file_path = '/Users/claire/Downloads/Datasets/DUTS-TR_resized/medium.txt'\n",
    "\n",
    "# Set the upper and lower thresholds for white_pixel_count\n",
    "# small:  lower = 0,     upper = 25000\n",
    "# medium: lower = 40000, upper = 72000\n",
    "# large:  lower = 90000, upper = 262144\n",
    "lower_threshold = 40000\n",
    "upper_threshold = 72000\n",
    "\n",
    "# Call the function and get the number of filenames written\n",
    "num_filenames_written = process_image_mask_pairs(img_folder, gt_folder, output_file_path, lower_threshold, upper_threshold)\n",
    "\n",
    "print(f'Processing complete. Results written to: {output_file_path}')\n",
    "print(f'Number of filenames written to the file: {num_filenames_written}')"
   ]
  },
  {
   "cell_type": "markdown",
   "metadata": {},
   "source": [
    "512 * 512"
   ]
  }
 ],
 "metadata": {
  "kernelspec": {
   "display_name": "dl_project",
   "language": "python",
   "name": "python3"
  },
  "language_info": {
   "codemirror_mode": {
    "name": "ipython",
    "version": 3
   },
   "file_extension": ".py",
   "mimetype": "text/x-python",
   "name": "python",
   "nbconvert_exporter": "python",
   "pygments_lexer": "ipython3",
   "version": "3.11.5"
  }
 },
 "nbformat": 4,
 "nbformat_minor": 2
}
