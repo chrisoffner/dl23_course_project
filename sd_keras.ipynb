{
 "cells": [
  {
   "cell_type": "code",
   "execution_count": null,
   "metadata": {},
   "outputs": [],
   "source": [
    "import keras_cv\n",
    "import tensorflow as tf\n",
    "import numpy as np\n",
    "from matplotlib import pyplot as plt"
   ]
  },
  {
   "cell_type": "code",
   "execution_count": null,
   "metadata": {},
   "outputs": [],
   "source": [
    "# TEST"
   ]
  },
  {
   "cell_type": "code",
   "execution_count": null,
   "metadata": {},
   "outputs": [],
   "source": [
    "#from diffusion_models.stable_diffusion import StableDiffusion\n",
    "from keras_cv.models import StableDiffusion"
   ]
  },
  {
   "cell_type": "code",
   "execution_count": null,
   "metadata": {},
   "outputs": [],
   "source": [
    "\n",
    "model = StableDiffusion(img_width=512, img_height=512, jit_compile=False)\n"
   ]
  },
  {
   "cell_type": "code",
   "execution_count": null,
   "metadata": {},
   "outputs": [],
   "source": [
    "\n",
    "from utils import crop_and_scale_image, show_image, get_image, normalize_m1to1, normalize_0to1\n",
    "\n",
    "img_path = r\"images\\lion_savannah.jpeg\"\n",
    "\n",
    "image = crop_and_scale_image(get_image(img_path))\n",
    "\n",
    "plt.imshow(image)\n",
    "image"
   ]
  },
  {
   "cell_type": "code",
   "execution_count": null,
   "metadata": {},
   "outputs": [],
   "source": [
    "#image = normalize_m1to1(image)\n",
    "image = normalize_0to1(image)\n",
    "images = tf.expand_dims(image, axis=0) # encoder expects a tensor of shape (batch_size, height, width, channels) so we add a batch dimension\n"
   ]
  },
  {
   "cell_type": "code",
   "execution_count": null,
   "metadata": {},
   "outputs": [],
   "source": [
    "image_encoder = model.image_encoder\n",
    "#image_encoder.summary()\n"
   ]
  },
  {
   "cell_type": "code",
   "execution_count": null,
   "metadata": {},
   "outputs": [],
   "source": [
    "image_encoded_latent = image_encoder(images, training=False)"
   ]
  },
  {
   "cell_type": "code",
   "execution_count": null,
   "metadata": {},
   "outputs": [],
   "source": [
    "\n",
    "# Plotting the latents\n",
    "fig, axs = plt.subplots(1, 4, figsize=(20, 5))  # 1 row, 4 columns\n",
    "\n",
    "# Loop over each channel\n",
    "for i in range(4):\n",
    "    channel = image_encoded_latent[0, :, :, i]\n",
    "    axs[i].imshow(channel, cmap=\"gray\")\n",
    "    axs[i].set_title(f\"Channel {i+1}\")\n",
    "    axs[i].axis(\"off\")  # Hide axis\n",
    "\n",
    "fig.suptitle(\"Latents\")\n",
    "plt.show()"
   ]
  },
  {
   "cell_type": "code",
   "execution_count": null,
   "metadata": {},
   "outputs": [],
   "source": [
    "image_decoder = model.decoder #64x64x4 --> 512x512x3    \n",
    "image_decoder.summary()"
   ]
  },
  {
   "cell_type": "code",
   "execution_count": null,
   "metadata": {},
   "outputs": [],
   "source": [
    "image_decoded = image_decoder(image_encoded_latent, training=False)\n",
    "image_decoded"
   ]
  },
  {
   "cell_type": "code",
   "execution_count": null,
   "metadata": {},
   "outputs": [],
   "source": [
    "plt.imshow(image_decoded[0])    "
   ]
  },
  {
   "cell_type": "code",
   "execution_count": null,
   "metadata": {},
   "outputs": [],
   "source": [
    "text_encoder = model.text_encoder\n",
    "text_encoder.summary()"
   ]
  },
  {
   "cell_type": "code",
   "execution_count": null,
   "metadata": {},
   "outputs": [],
   "source": [
    "tokenizer = model.tokenizer\n",
    "tokenizer"
   ]
  },
  {
   "cell_type": "code",
   "execution_count": null,
   "metadata": {},
   "outputs": [],
   "source": [
    "prompt = \"\"\n",
    "tokens = tokenizer.encode(prompt)\n",
    "tokens"
   ]
  },
  {
   "cell_type": "code",
   "execution_count": null,
   "metadata": {},
   "outputs": [],
   "source": [
    "tokens = tokens + [49407] * (77 - len(tokens)) #fill up with padding tokens so that the length is 77"
   ]
  },
  {
   "cell_type": "code",
   "execution_count": null,
   "metadata": {},
   "outputs": [],
   "source": [
    "model._get_pos_ids()"
   ]
  },
  {
   "cell_type": "code",
   "execution_count": null,
   "metadata": {},
   "outputs": [],
   "source": [
    "text_encoder_inputs = tf.expand_dims(tokens, 0) # encoder expects a tensor of shape (batch_size, seq_length) so we add a batch dimension\n",
    "\n",
    "context = text_encoder.predict_on_batch({\"tokens\": text_encoder_inputs, \"positions\": model._get_pos_ids()})\n",
    "context"
   ]
  },
  {
   "cell_type": "code",
   "execution_count": null,
   "metadata": {},
   "outputs": [],
   "source": [
    "#keras_cv.models.stable_diffusion.DiffusionModel\n",
    "ldm = model.diffusion_model"
   ]
  },
  {
   "cell_type": "code",
   "execution_count": null,
   "metadata": {},
   "outputs": [],
   "source": [
    "ldm.summary()"
   ]
  },
  {
   "cell_type": "code",
   "execution_count": null,
   "metadata": {},
   "outputs": [],
   "source": [
    "timestep = 1\n",
    "t_emb = model._get_timestep_embedding(timestep=timestep, batch_size=1)\n",
    "t_emb"
   ]
  },
  {
   "cell_type": "code",
   "execution_count": null,
   "metadata": {},
   "outputs": [],
   "source": []
  },
  {
   "cell_type": "code",
   "execution_count": null,
   "metadata": {},
   "outputs": [],
   "source": [
    "images_latent = tf.expand_dims(image_encoded_latent, axis=0)\n",
    "images_latent"
   ]
  },
  {
   "cell_type": "code",
   "execution_count": null,
   "metadata": {},
   "outputs": [],
   "source": [
    "output = ldm.predict_on_batch({'latent':image_encoded_latent, \n",
    "                      'timestep_embedding':t_emb, \n",
    "                      'context':context})     "
   ]
  },
  {
   "cell_type": "code",
   "execution_count": null,
   "metadata": {},
   "outputs": [],
   "source": [
    "output.shape # (1, 64, 64, 4)"
   ]
  }
 ],
 "metadata": {
  "kernelspec": {
   "display_name": "diffseg",
   "language": "python",
   "name": "python3"
  },
  "language_info": {
   "codemirror_mode": {
    "name": "ipython",
    "version": 3
   },
   "file_extension": ".py",
   "mimetype": "text/x-python",
   "name": "python",
   "nbconvert_exporter": "python",
   "pygments_lexer": "ipython3",
   "version": "3.9.18"
  }
 },
 "nbformat": 4,
 "nbformat_minor": 2
}
