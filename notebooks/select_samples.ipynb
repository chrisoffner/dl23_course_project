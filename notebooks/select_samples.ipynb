{
 "cells": [
  {
   "cell_type": "code",
   "execution_count": 59,
   "metadata": {},
   "outputs": [],
   "source": [
    "import glob\n",
    "import os,sys\n",
    "notebooks_dir = os.getcwd()\n",
    "import numpy as np\n",
    "\n",
    "project_dir = os.path.dirname(notebooks_dir)\n",
    "code_dir = os.path.join(project_dir, 'code')  \n",
    "if code_dir not in sys.path:\n",
    "    sys.path.insert(0, code_dir)\n",
    "\n",
    "from visualisation_utils import count_white_pixels"
   ]
  },
  {
   "cell_type": "code",
   "execution_count": 2,
   "metadata": {},
   "outputs": [],
   "source": [
    "path_all_samples = r\"C:\\Users\\aapolina\\CODE\\diffusion_segmentation\\DATA\\all\"\n",
    "path_used_samples = r\"C:\\Users\\aapolina\\CODE\\diffusion_segmentation\\DATA\\size_specific_data\"\n",
    "path_test_samples = r\"C:\\Users\\aapolina\\CODE\\diffusion_segmentation\\DATA\\iou_test\"\n"
   ]
  },
  {
   "cell_type": "code",
   "execution_count": 3,
   "metadata": {},
   "outputs": [],
   "source": [
    "import os\n",
    "\n",
    "filenames_all_samples = os.listdir(os.path.join(path_all_samples, 'gt'))\n",
    "\n",
    "gt_files = glob.glob(os.path.join(path_used_samples, '**/gt/*'), recursive=True)\n",
    "filenames_used_samples = [os.path.basename(file) for file in gt_files]"
   ]
  },
  {
   "cell_type": "code",
   "execution_count": 10,
   "metadata": {},
   "outputs": [
    {
     "ename": "TypeError",
     "evalue": "can't multiply sequence by non-int of type 'float'",
     "output_type": "error",
     "traceback": [
      "\u001b[1;31m---------------------------------------------------------------------------\u001b[0m",
      "\u001b[1;31mTypeError\u001b[0m                                 Traceback (most recent call last)",
      "Cell \u001b[1;32mIn[10], line 2\u001b[0m\n\u001b[0;32m      1\u001b[0m \u001b[38;5;66;03m#total_image_pixels = 512 * 512\u001b[39;00m\n\u001b[1;32m----> 2\u001b[0m size \u001b[38;5;241m=\u001b[39m \u001b[43m[\u001b[49m\u001b[38;5;241;43m6.0\u001b[39;49m\u001b[43m,\u001b[49m\u001b[43m \u001b[49m\u001b[38;5;241;43m25\u001b[39;49m\u001b[43m,\u001b[49m\u001b[43m \u001b[49m\u001b[38;5;241;43m80\u001b[39;49m\u001b[43m]\u001b[49m\u001b[38;5;241;43m*\u001b[39;49m\u001b[38;5;241;43m0.01\u001b[39;49m\n\u001b[0;32m      3\u001b[0m eps \u001b[38;5;241m=\u001b[39m [\u001b[38;5;241m3.018\u001b[39m, \u001b[38;5;241m0.905\u001b[39m, \u001b[38;5;241m19.262\u001b[39m]\u001b[38;5;241m*\u001b[39m\u001b[38;5;241m0.01\u001b[39m\n",
      "\u001b[1;31mTypeError\u001b[0m: can't multiply sequence by non-int of type 'float'"
     ]
    }
   ],
   "source": [
    "#total_image_pixels = 512 * 512\n",
    "size = [6.0, 25, 80]\n",
    "eps = [3.018, 0.905, 19.262]\n"
   ]
  },
  {
   "cell_type": "code",
   "execution_count": 5,
   "metadata": {},
   "outputs": [
    {
     "data": {
      "text/plain": [
       "['0001.png', '0002.png', '0003.png']"
      ]
     },
     "execution_count": 5,
     "metadata": {},
     "output_type": "execute_result"
    }
   ],
   "source": [
    "os.listdir(os.path.join(path_all_samples, 'gt'))[:3]"
   ]
  },
  {
   "cell_type": "code",
   "execution_count": 73,
   "metadata": {},
   "outputs": [],
   "source": [
    "import shutil\n",
    "def copy_file(filename, source_path, destination_path):\n",
    "            source_path = os.path.join(source_path, filename)\n",
    "            destination_path = os.path.join(destination_path, filename)\n",
    "            shutil.copyfile(source_path, destination_path)"
   ]
  },
  {
   "cell_type": "code",
   "execution_count": 77,
   "metadata": {},
   "outputs": [
    {
     "name": "stdout",
     "output_type": "stream",
     "text": [
      "0 files read\n",
      "1000 files read\n",
      "2000 files read\n",
      "3000 files read\n",
      "4000 files read\n",
      "5000 files read\n",
      "6000 files read\n",
      "7000 files read\n",
      "8000 files read\n",
      "9000 files read\n",
      "10000 files read\n",
      "11000 files read\n",
      "12000 files read\n",
      "13000 files read\n",
      "14000 files read\n",
      "15000 files read\n",
      "16000 files read\n",
      "17000 files read\n",
      "18000 files read\n",
      "19000 files read\n",
      "20000 files read\n",
      "21000 files read\n"
     ]
    }
   ],
   "source": [
    "white_pixels = []\n",
    "sorted_filenames = []\n",
    "for i, filename in enumerate(os.listdir(os.path.join(path_all_samples, 'gt'))):\n",
    "    if i%1000==0: print(f\"{i} files read\")\n",
    "\n",
    "    file_path = os.path.join(path_all_samples, 'gt', filename)\n",
    "    x = count_white_pixels(file_path, relative=True)*100\n",
    "    white_pixels.append(x)\n",
    "    sorted_filenames.append([filename[:-4], x])\n"
   ]
  },
  {
   "cell_type": "code",
   "execution_count": 78,
   "metadata": {},
   "outputs": [],
   "source": [
    "\n",
    "sorted_filenames_unused = [[f,x] for f,x in sorted_filenames if f not in filenames_used_samples] #discard used samples\n"
   ]
  },
  {
   "cell_type": "code",
   "execution_count": 79,
   "metadata": {},
   "outputs": [
    {
     "name": "stdout",
     "output_type": "stream",
     "text": [
      "small test set: 5.67 / 6.00 / 6.33\n",
      "medium test set: 24.91 / 25.00 / 25.09\n",
      "large test set: 75.77 / 78.88 / 84.11\n"
     ]
    }
   ],
   "source": [
    "fx = sorted_filenames_unused\n",
    "\n",
    "small = []\n",
    "medium =[]\n",
    "large = []\n",
    "\n",
    "\n",
    "fx.sort(key=lambda x: abs(x[1]-size[0]))\n",
    "small= fx[:100]\n",
    "x = [x for _,x in small]\n",
    "print(f\"small test set: {min(x):.2f} / {np.mean(x):.2f} / {max(x):.2f}\")\n",
    "\n",
    "fx.sort(key=lambda x: abs(x[1]-size[1]))\n",
    "medium = fx[:100]\n",
    "\n",
    "x = [x for _,x in medium]\n",
    "print(f\"medium test set: {min(x):.2f} / {np.mean(x):.2f} / {max(x):.2f}\")\n",
    "\n",
    "fx.sort(key=lambda x: abs(x[1]-size[2]))\n",
    "large= fx[:100]\n",
    "x = [x for _,x in large]\n",
    "print(f\"large test set: {min(x):.2f} / {np.mean(x):.2f} / {max(x):.2f}\")\n"
   ]
  },
  {
   "cell_type": "code",
   "execution_count": 80,
   "metadata": {},
   "outputs": [
    {
     "data": {
      "text/plain": [
       "'q34545.png'"
      ]
     },
     "execution_count": 80,
     "metadata": {},
     "output_type": "execute_result"
    }
   ],
   "source": [
    "os.path.exists(os.path.join(path_all_samples, 'gt'))\n",
    "\"q34545.jpg\"[:-3]+'png'"
   ]
  },
  {
   "cell_type": "code",
   "execution_count": 81,
   "metadata": {},
   "outputs": [],
   "source": [
    "for filename,_ in small:\n",
    "    copy_file(filename+'.png', os.path.join(path_all_samples, 'gt'), os.path.join(path_test_samples, 'small', 'gt'))\n",
    "    copy_file(filename+'.jpg', os.path.join(path_all_samples, 'img'), os.path.join(path_test_samples, 'small', 'img'))\n",
    "\n",
    "for filename,_ in medium:\n",
    "    copy_file(filename+'.png', os.path.join(path_all_samples, 'gt'), os.path.join(path_test_samples, 'medium', 'gt'))\n",
    "    copy_file(filename+'.jpg', os.path.join(path_all_samples, 'img'), os.path.join(path_test_samples, 'medium', 'img'))\n",
    "\n",
    "for filename,_ in large:\n",
    "    copy_file(filename+'.png', os.path.join(path_all_samples, 'gt'), os.path.join(path_test_samples, 'large', 'gt'))\n",
    "    copy_file(filename+'.jpg', os.path.join(path_all_samples, 'img'), os.path.join(path_test_samples, 'large', 'img'))\n"
   ]
  },
  {
   "cell_type": "code",
   "execution_count": 23,
   "metadata": {},
   "outputs": [
    {
     "data": {
      "image/png": "[encoded data removed]",
      "text/plain": [
       "<Figure size 640x480 with 1 Axes>"
      ]
     },
     "metadata": {},
     "output_type": "display_data"
    }
   ],
   "source": [
    "\n",
    "import matplotlib.pyplot as plt\n",
    "\n",
    "plt.hist(white_pixels, bins=100)\n",
    "plt.xlabel('% of masked pixels in all samples')\n",
    "plt.ylabel('Frequency')\n",
    "plt.title('Histogram of White Pixels')\n",
    "plt.xlim(0, 100)\n",
    "plt.show()\n"
   ]
  },
  {
   "cell_type": "code",
   "execution_count": 31,
   "metadata": {},
   "outputs": [
    {
     "data": {
      "text/plain": [
       "21553"
      ]
     },
     "execution_count": 31,
     "metadata": {},
     "output_type": "execute_result"
    }
   ],
   "source": [
    "len(os.listdir(os.path.join(path_all_samples, 'gt')))"
   ]
  },
  {
   "cell_type": "code",
   "execution_count": 24,
   "metadata": {},
   "outputs": [
    {
     "data": {
      "text/plain": [
       "1001"
      ]
     },
     "execution_count": 24,
     "metadata": {},
     "output_type": "execute_result"
    }
   ],
   "source": [
    "count = len([x for x in white_pixels if x > size[2]-eps[2]])\n",
    "count\n"
   ]
  },
  {
   "cell_type": "code",
   "execution_count": 26,
   "metadata": {},
   "outputs": [
    {
     "data": {
      "text/plain": [
       "1000"
      ]
     },
     "execution_count": 26,
     "metadata": {},
     "output_type": "execute_result"
    }
   ],
   "source": [
    "count = len([x for x in white_pixels if x > size[0]-eps[0] and x < size[0]+eps[0]])\n",
    "count"
   ]
  },
  {
   "cell_type": "code",
   "execution_count": 28,
   "metadata": {},
   "outputs": [
    {
     "data": {
      "text/plain": [
       "1000"
      ]
     },
     "execution_count": 28,
     "metadata": {},
     "output_type": "execute_result"
    }
   ],
   "source": [
    "count = len([x for x in white_pixels if x > size[1]-eps[1] and x < size[1]+eps[1]])\n",
    "count"
   ]
  },
  {
   "cell_type": "code",
   "execution_count": 14,
   "metadata": {},
   "outputs": [
    {
     "name": "stdout",
     "output_type": "stream",
     "text": [
      "0 files read\n",
      "100 files read\n",
      "200 files read\n",
      "300 files read\n",
      "400 files read\n",
      "700 files read\n",
      "900 files read\n",
      "1000 files read\n",
      "1200 files read\n",
      "1300 files read\n",
      "1400 files read\n",
      "1500 files read\n",
      "1600 files read\n",
      "1700 files read\n",
      "1800 files read\n",
      "1900 files read\n",
      "2000 files read\n",
      "2100 files read\n",
      "2200 files read\n",
      "2300 files read\n",
      "2400 files read\n",
      "2600 files read\n",
      "2700 files read\n",
      "2800 files read\n",
      "2900 files read\n",
      "3000 files read\n",
      "3100 files read\n",
      "3200 files read\n",
      "3300 files read\n",
      "3400 files read\n",
      "3500 files read\n",
      "3600 files read\n",
      "3700 files read\n",
      "3800 files read\n",
      "3900 files read\n",
      "4000 files read\n",
      "4100 files read\n",
      "4200 files read\n",
      "4300 files read\n",
      "4400 files read\n",
      "4500 files read\n",
      "4600 files read\n",
      "4700 files read\n",
      "4800 files read\n",
      "5000 files read\n",
      "5100 files read\n",
      "5300 files read\n",
      "5400 files read\n",
      "5600 files read\n",
      "5800 files read\n",
      "5900 files read\n",
      "6000 files read\n",
      "6100 files read\n",
      "6200 files read\n",
      "6300 files read\n",
      "6400 files read\n",
      "6500 files read\n",
      "6600 files read\n",
      "6700 files read\n",
      "6800 files read\n",
      "6900 files read\n",
      "7000 files read\n",
      "7100 files read\n",
      "7200 files read\n",
      "7300 files read\n",
      "7400 files read\n",
      "7500 files read\n",
      "7700 files read\n",
      "7800 files read\n",
      "7900 files read\n",
      "8000 files read\n",
      "8100 files read\n",
      "8200 files read\n",
      "8300 files read\n",
      "8400 files read\n",
      "8500 files read\n",
      "8600 files read\n",
      "8700 files read\n",
      "8900 files read\n",
      "9000 files read\n",
      "9100 files read\n",
      "9300 files read\n",
      "9400 files read\n",
      "9500 files read\n",
      "9600 files read\n",
      "9700 files read\n",
      "9800 files read\n",
      "10000 files read\n",
      "10100 files read\n",
      "10200 files read\n",
      "10300 files read\n",
      "10400 files read\n",
      "10500 files read\n",
      "10600 files read\n",
      "10700 files read\n",
      "10800 files read\n",
      "10900 files read\n",
      "11000 files read\n",
      "11100 files read\n",
      "11200 files read\n",
      "11300 files read\n",
      "11400 files read\n",
      "11500 files read\n",
      "11600 files read\n",
      "11700 files read\n",
      "11800 files read\n",
      "11900 files read\n",
      "12100 files read\n",
      "12200 files read\n",
      "12400 files read\n",
      "12500 files read\n",
      "12600 files read\n",
      "12700 files read\n",
      "12800 files read\n",
      "12900 files read\n",
      "13000 files read\n",
      "13100 files read\n",
      "13200 files read\n",
      "13300 files read\n",
      "13400 files read\n",
      "13500 files read\n",
      "13600 files read\n",
      "13700 files read\n",
      "13800 files read\n",
      "14100 files read\n",
      "14200 files read\n",
      "14300 files read\n",
      "14400 files read\n",
      "14600 files read\n",
      "14700 files read\n",
      "14800 files read\n",
      "15100 files read\n",
      "15200 files read\n",
      "15300 files read\n",
      "15400 files read\n",
      "15600 files read\n",
      "15700 files read\n",
      "15800 files read\n",
      "15900 files read\n",
      "16000 files read\n",
      "16100 files read\n",
      "16200 files read\n",
      "16300 files read\n",
      "16400 files read\n",
      "16500 files read\n",
      "16600 files read\n",
      "16700 files read\n",
      "16800 files read\n",
      "16900 files read\n",
      "17100 files read\n",
      "17300 files read\n",
      "17400 files read\n",
      "17500 files read\n",
      "17600 files read\n",
      "17700 files read\n",
      "17800 files read\n",
      "17900 files read\n",
      "18100 files read\n",
      "18200 files read\n",
      "18300 files read\n",
      "18400 files read\n",
      "18500 files read\n",
      "18700 files read\n",
      "18800 files read\n",
      "18900 files read\n",
      "19000 files read\n",
      "19100 files read\n",
      "19200 files read\n",
      "19300 files read\n",
      "19400 files read\n",
      "19500 files read\n",
      "19600 files read\n",
      "19700 files read\n",
      "19800 files read\n",
      "19900 files read\n",
      "20000 files read\n",
      "20100 files read\n",
      "20200 files read\n",
      "20300 files read\n",
      "20400 files read\n",
      "20500 files read\n",
      "20600 files read\n",
      "20700 files read\n",
      "20800 files read\n",
      "20900 files read\n",
      "21000 files read\n",
      "21100 files read\n",
      "21200 files read\n",
      "21300 files read\n",
      "21400 files read\n",
      "21500 files read\n"
     ]
    }
   ],
   "source": [
    "import cv2\n",
    "import numpy as np\n",
    "from PIL import Image\n",
    "import PIL\n",
    "\n",
    "i_small = 0\n",
    "i_medium = 0\n",
    "i_large = 0\n",
    "n = 10\n",
    "\n",
    "for i, filename in enumerate(os.listdir(os.path.join(path_all_samples, 'gt'))):\n",
    "    if filename in filenames_used_samples: continue\n",
    "\n",
    "    if i%100==0: print(f\"{i} files read\")\n",
    "\n",
    "    file_path = os.path.join(path_all_samples, 'gt', filename)\n",
    "    x = count_white_pixels(file_path, relative=True)*100\n",
    "\n",
    "    if i_small<n and x >= size[0]-eps[0] and x <= size[0]+eps[0]:\n",
    "        # small image\n",
    "        copy_file(filename, os.path.join(path_all_samples, 'gt'), os.path.join(path_test_samples, 'small', 'gt'))\n",
    "        copy_file(filename, os.path.join(path_all_samples, 'img'), os.path.join(path_test_samples, 'small', 'img'))\n",
    "        i_small += 1\n",
    "\n",
    "    elif i_small<n and x >= size[1]-eps[1] and x <= size[1]+eps[1]:\n",
    "        # medium image\n",
    "        copy_file(filename, os.path.join(path_all_samples, 'gt'), os.path.join(path_test_samples, 'medium', 'gt'))\n",
    "        copy_file(filename, os.path.join(path_all_samples, 'img'), os.path.join(path_test_samples, 'medium', 'img'))\n",
    "        i_medium += 1\n",
    "\n",
    "    elif i_small<n and x >= size[2]-eps[2] and x <= size[2]+eps[2]:\n",
    "        # large image\n",
    "        copy_file(filename, os.path.join(path_all_samples, 'gt'), os.path.join(path_test_samples, 'large', 'gt'))\n",
    "        copy_file(filename, os.path.join(path_all_samples, 'img'), os.path.join(path_test_samples, 'large', 'img'))\n",
    "        i_large += 1\n",
    "    else:\n",
    "        # not in range\n",
    "        pass\n",
    "\n"
   ]
  },
  {
   "cell_type": "code",
   "execution_count": 16,
   "metadata": {},
   "outputs": [
    {
     "data": {
      "text/plain": [
       "(0, 0, 0)"
      ]
     },
     "execution_count": 16,
     "metadata": {},
     "output_type": "execute_result"
    }
   ],
   "source": [
    "i_small,i_medium,i_large"
   ]
  }
 ],
 "metadata": {
  "kernelspec": {
   "display_name": "diffseg",
   "language": "python",
   "name": "python3"
  },
  "language_info": {
   "codemirror_mode": {
    "name": "ipython",
    "version": 3
   },
   "file_extension": ".py",
   "mimetype": "text/x-python",
   "name": "python",
   "nbconvert_exporter": "python",
   "pygments_lexer": "ipython3",
   "version": "3.9.18"
  }
 },
 "nbformat": 4,
 "nbformat_minor": 2
}
