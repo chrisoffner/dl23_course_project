{
 "cells": [
  {
   "cell_type": "markdown",
   "metadata": {},
   "source": [
    "# Change current working directory to wherever the dataset is located"
   ]
  },
  {
   "cell_type": "markdown",
   "metadata": {},
   "source": [
    "The code in this notebook was used to upscale and center-crop the images and masks in the datasets.\n",
    "Mark sure to change the working directory to wherever your dataset is currently stored."
   ]
  },
  {
   "cell_type": "code",
   "execution_count": 1,
   "metadata": {},
   "outputs": [],
   "source": [
    "import os\n",
    "from PIL import Image"
   ]
  },
  {
   "cell_type": "code",
   "execution_count": 2,
   "metadata": {},
   "outputs": [],
   "source": [
    "# Replace the absolute_path with the absolute path you want to set\n",
    "absolute_path = \"/Users/claire/Downloads/DUTS-TR\"\n",
    "\n",
    "# Use os.chdir to change the working directory\n",
    "os.chdir(absolute_path)"
   ]
  },
  {
   "cell_type": "code",
   "execution_count": 3,
   "metadata": {},
   "outputs": [
    {
     "data": {
      "text/plain": [
       "'/Users/claire/Downloads/DUTS-TR'"
      ]
     },
     "execution_count": 3,
     "metadata": {},
     "output_type": "execute_result"
    }
   ],
   "source": [
    "%pwd"
   ]
  },
  {
   "cell_type": "markdown",
   "metadata": {},
   "source": [
    "# Code for center cropping images while avoiding distortion"
   ]
  },
  {
   "cell_type": "markdown",
   "metadata": {},
   "source": [
    "Make sure to change where you want to store the rescaled and center-cropped images"
   ]
  },
  {
   "cell_type": "code",
   "execution_count": 6,
   "metadata": {},
   "outputs": [],
   "source": [
    "def resize_and_crop(image_path, segmentation_path, output_size, output_image_folder, output_segmentation_folder):\n",
    "    # Open the image and segmentation map\n",
    "    image = Image.open(image_path)\n",
    "    segmentation = Image.open(segmentation_path)\n",
    "\n",
    "    # Calculate the aspect ratio\n",
    "    aspect_ratio = image.width / image.height\n",
    "\n",
    "    # Determine the new size for resizing\n",
    "    if aspect_ratio < 1:\n",
    "        new_width = output_size\n",
    "        new_height = int(output_size / aspect_ratio)\n",
    "    else:\n",
    "        new_height = output_size\n",
    "        new_width = int(output_size * aspect_ratio)\n",
    "\n",
    "    # Resize the image and segmentation map\n",
    "    resized_image = image.resize((new_width, new_height), Image.Resampling.LANCZOS)\n",
    "    resized_segmentation = segmentation.resize((new_width, new_height), Image.Resampling.NEAREST)\n",
    "\n",
    "    # Calculate the center crop box\n",
    "    left = (new_width - output_size) / 2\n",
    "    top = (new_height - output_size) / 2\n",
    "    right = (new_width + output_size) / 2\n",
    "    bottom = (new_height + output_size) / 2\n",
    "\n",
    "    # Perform the center crop\n",
    "    cropped_image = resized_image.crop((left, top, right, bottom))\n",
    "    cropped_segmentation = resized_segmentation.crop((left, top, right, bottom))\n",
    "\n",
    "    # Save the results\n",
    "    image_filename = os.path.basename(image_path)\n",
    "    segmentation_filename = os.path.basename(segmentation_path)\n",
    "\n",
    "    output_image_path = os.path.join(output_image_folder, image_filename)\n",
    "    output_segmentation_path = os.path.join(output_segmentation_folder, segmentation_filename)\n",
    "\n",
    "    cropped_image.save(output_image_path)\n",
    "    cropped_segmentation.save(output_segmentation_path)\n",
    "\n",
    "def process_images(input_image_folder, input_segmentation_folder, output_image_folder, output_segmentation_folder, output_size):\n",
    "    # Ensure the output folders exist\n",
    "    os.makedirs(output_image_folder, exist_ok=True)\n",
    "    os.makedirs(output_segmentation_folder, exist_ok=True)\n",
    "\n",
    "    # Process each image in the input folders\n",
    "    for filename in os.listdir(input_image_folder):\n",
    "        if filename.endswith(\".jpg\"):\n",
    "            image_path = os.path.join(input_image_folder, filename)\n",
    "            segmentation_path = os.path.join(input_segmentation_folder, filename[:-4] + \".png\")\n",
    "\n",
    "            # Resize and crop the image and segmentation map\n",
    "            resize_and_crop(image_path, segmentation_path, output_size, output_image_folder, output_segmentation_folder)\n",
    "\n",
    "if __name__ == \"__main__\":\n",
    "    input_image_folder = \"img\"\n",
    "    input_segmentation_folder = \"gt\"\n",
    "    output_image_folder = \"resized_img\"\n",
    "    output_segmentation_folder = \"resized_gt\"\n",
    "    output_size = 512\n",
    "\n",
    "    process_images(input_image_folder, input_segmentation_folder, output_image_folder, output_segmentation_folder, output_size)\n"
   ]
  }
 ],
 "metadata": {
  "kernelspec": {
   "display_name": "dl_project",
   "language": "python",
   "name": "python3"
  },
  "language_info": {
   "codemirror_mode": {
    "name": "ipython",
    "version": 3
   },
   "file_extension": ".py",
   "mimetype": "text/x-python",
   "name": "python",
   "nbconvert_exporter": "python",
   "pygments_lexer": "ipython3",
   "version": "3.11.5"
  }
 },
 "nbformat": 4,
 "nbformat_minor": 2
}
