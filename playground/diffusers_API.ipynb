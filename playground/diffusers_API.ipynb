{
 "cells": [
  {
   "cell_type": "markdown",
   "metadata": {},
   "source": [
    "Examples from: https://huggingface.co/docs/diffusers/using-diffusers/loading "
   ]
  },
  {
   "cell_type": "markdown",
   "metadata": {},
   "source": [
    "To run this, \n",
    "created a (fresh) environment with:\n",
    "\n",
    "* `conda install -c conda-forge diffusers`  \n",
    "* pytorch with cuda from: https://pytorch.org/get-started/locally/\n",
    "* `pip install accelerate`  \n",
    "* `pip install transformers`  \n",
    "* `pip install torch-summary`\n"
   ]
  },
  {
   "cell_type": "code",
   "execution_count": null,
   "metadata": {},
   "outputs": [],
   "source": [
    "from diffusers import StableDiffusionPipeline\n",
    "import torch\n",
    "\n",
    "#takes about 2 min to download the first time\n",
    "pipe = StableDiffusionPipeline.from_pretrained(\"runwayml/stable-diffusion-v1-5\", torch_dtype=torch.float16)\n",
    "pipe = pipe.to(\"cpu\")\n",
    "pipe"
   ]
  },
  {
   "cell_type": "code",
   "execution_count": null,
   "metadata": {},
   "outputs": [],
   "source": [
    "vae = pipe.vae\n",
    "vae"
   ]
  },
  {
   "cell_type": "code",
   "execution_count": null,
   "metadata": {},
   "outputs": [],
   "source": [
    "type(vae.encoder.down_blocks[0].resnets[0].norm1)"
   ]
  },
  {
   "cell_type": "code",
   "execution_count": null,
   "metadata": {},
   "outputs": [],
   "source": [
    "type(vae.encoder.down_blocks[0].resnets[0].conv1)"
   ]
  },
  {
   "cell_type": "markdown",
   "metadata": {},
   "source": [
    "**Example:**  \n",
    "`diffusers.models.lora.LoRACompatibleConv`  \n",
    "inherits from torch `nn.Conv2D`   \n",
    "https://github.com/huggingface/diffusers/blob/21bc59ab2450da6e802edfef34c7605763aed80c/src/diffusers/models/lora.py#L290"
   ]
  },
  {
   "cell_type": "code",
   "execution_count": null,
   "metadata": {},
   "outputs": [],
   "source": [
    "unet = pipe.unet\n",
    "unet"
   ]
  },
  {
   "cell_type": "code",
   "execution_count": null,
   "metadata": {},
   "outputs": [],
   "source": [
    "from torchsummary import summary\n",
    "summary(unet, depth=3)"
   ]
  },
  {
   "cell_type": "code",
   "execution_count": null,
   "metadata": {},
   "outputs": [],
   "source": [
    "type(list(unet.modules())[0])\n"
   ]
  }
 ],
 "metadata": {
  "kernelspec": {
   "display_name": "stablediffusion",
   "language": "python",
   "name": "python3"
  },
  "language_info": {
   "codemirror_mode": {
    "name": "ipython",
    "version": 3
   },
   "file_extension": ".py",
   "mimetype": "text/x-python",
   "name": "python",
   "nbconvert_exporter": "python",
   "pygments_lexer": "ipython3",
   "version": "3.11.6"
  }
 },
 "nbformat": 4,
 "nbformat_minor": 2
}
